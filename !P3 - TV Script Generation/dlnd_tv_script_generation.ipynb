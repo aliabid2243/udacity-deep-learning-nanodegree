{
 "cells": [
  {
   "cell_type": "markdown",
   "metadata": {},
   "source": [
    "# TV Script Generation\n",
    "In this project, you'll generate your own [Simpsons](https://en.wikipedia.org/wiki/The_Simpsons) TV scripts using RNNs.  You'll be using part of the [Simpsons dataset](https://www.kaggle.com/wcukierski/the-simpsons-by-the-data) of scripts from 27 seasons.  The Neural Network you'll build will generate a new TV script for a scene at [Moe's Tavern](https://simpsonswiki.com/wiki/Moe's_Tavern).\n",
    "## Get the Data\n",
    "The data is already provided for you.  You'll be using a subset of the original dataset.  It consists of only the scenes in Moe's Tavern.  This doesn't include other versions of the tavern, like \"Moe's Cavern\", \"Flaming Moe's\", \"Uncle Moe's Family Feed-Bag\", etc.."
   ]
  },
  {
   "cell_type": "code",
   "execution_count": 4,
   "metadata": {
    "collapsed": true
   },
   "outputs": [],
   "source": [
    "\"\"\"\n",
    "DON'T MODIFY ANYTHING IN THIS CELL\n",
    "\"\"\"\n",
    "import helper\n",
    "\n",
    "data_dir = './data/simpsons/moes_tavern_lines.txt'\n",
    "text = helper.load_data(data_dir)\n",
    "# Ignore notice, since we don't use it for analysing the data\n",
    "text = text[81:]"
   ]
  },
  {
   "cell_type": "markdown",
   "metadata": {},
   "source": [
    "## Explore the Data\n",
    "Play around with `view_sentence_range` to view different parts of the data."
   ]
  },
  {
   "cell_type": "code",
   "execution_count": 5,
   "metadata": {},
   "outputs": [
    {
     "name": "stdout",
     "output_type": "stream",
     "text": [
      "Dataset Stats\n",
      "Roughly the number of unique words: 11492\n",
      "Number of scenes: 262\n",
      "Average number of sentences in each scene: 15.248091603053435\n",
      "Number of lines: 4257\n",
      "Average number of words in each line: 11.50434578341555\n",
      "\n",
      "The sentences 0 to 10:\n",
      "Moe_Szyslak: (INTO PHONE) Moe's Tavern. Where the elite meet to drink.\n",
      "Bart_Simpson: Eh, yeah, hello, is Mike there? Last name, Rotch.\n",
      "Moe_Szyslak: (INTO PHONE) Hold on, I'll check. (TO BARFLIES) Mike Rotch. Mike Rotch. Hey, has anybody seen Mike Rotch, lately?\n",
      "Moe_Szyslak: (INTO PHONE) Listen you little puke. One of these days I'm gonna catch you, and I'm gonna carve my name on your back with an ice pick.\n",
      "Moe_Szyslak: What's the matter Homer? You're not your normal effervescent self.\n",
      "Homer_Simpson: I got my problems, Moe. Give me another one.\n",
      "Moe_Szyslak: Homer, hey, you should not drink to forget your problems.\n",
      "Barney_Gumble: Yeah, you should only drink to enhance your social skills.\n",
      "\n",
      "\n"
     ]
    }
   ],
   "source": [
    "view_sentence_range = (0, 10)\n",
    "\n",
    "\"\"\"\n",
    "DON'T MODIFY ANYTHING IN THIS CELL\n",
    "\"\"\"\n",
    "import numpy as np\n",
    "\n",
    "print('Dataset Stats')\n",
    "print('Roughly the number of unique words: {}'.format(len({word: None for word in text.split()})))\n",
    "scenes = text.split('\\n\\n')\n",
    "print('Number of scenes: {}'.format(len(scenes)))\n",
    "sentence_count_scene = [scene.count('\\n') for scene in scenes]\n",
    "print('Average number of sentences in each scene: {}'.format(np.average(sentence_count_scene)))\n",
    "\n",
    "sentences = [sentence for scene in scenes for sentence in scene.split('\\n')]\n",
    "print('Number of lines: {}'.format(len(sentences)))\n",
    "word_count_sentence = [len(sentence.split()) for sentence in sentences]\n",
    "print('Average number of words in each line: {}'.format(np.average(word_count_sentence)))\n",
    "\n",
    "print()\n",
    "print('The sentences {} to {}:'.format(*view_sentence_range))\n",
    "print('\\n'.join(text.split('\\n')[view_sentence_range[0]:view_sentence_range[1]]))"
   ]
  },
  {
   "cell_type": "markdown",
   "metadata": {},
   "source": [
    "## Implement Preprocessing Functions\n",
    "The first thing to do to any dataset is preprocessing.  Implement the following preprocessing functions below:\n",
    "- Lookup Table\n",
    "- Tokenize Punctuation\n",
    "\n",
    "### Lookup Table\n",
    "To create a word embedding, you first need to transform the words to ids.  In this function, create two dictionaries:\n",
    "- Dictionary to go from the words to an id, we'll call `vocab_to_int`\n",
    "- Dictionary to go from the id to word, we'll call `int_to_vocab`\n",
    "\n",
    "Return these dictionaries in the following tuple `(vocab_to_int, int_to_vocab)`"
   ]
  },
  {
   "cell_type": "code",
   "execution_count": 6,
   "metadata": {},
   "outputs": [
    {
     "name": "stdout",
     "output_type": "stream",
     "text": [
      "Tests Passed\n"
     ]
    }
   ],
   "source": [
    "import numpy as np\n",
    "import problem_unittests as tests\n",
    "\n",
    "def create_lookup_tables(text):\n",
    "    \"\"\"\n",
    "    Create lookup tables for vocabulary\n",
    "    :param text: The text of tv scripts split into words\n",
    "    :return: A tuple of dicts (vocab_to_int, int_to_vocab)\n",
    "    \"\"\"\n",
    "    vocab = sorted(set(text))\n",
    "    vocab_to_int = {c: i for i, c in enumerate(vocab)}\n",
    "    int_to_vocab = dict(enumerate(vocab))\n",
    "    # TODO: Implement Function\n",
    "    return vocab_to_int, int_to_vocab\n",
    "\n",
    "\n",
    "\"\"\"\n",
    "DON'T MODIFY ANYTHING IN THIS CELL THAT IS BELOW THIS LINE\n",
    "\"\"\"\n",
    "tests.test_create_lookup_tables(create_lookup_tables)"
   ]
  },
  {
   "cell_type": "markdown",
   "metadata": {},
   "source": [
    "### Tokenize Punctuation\n",
    "We'll be splitting the script into a word array using spaces as delimiters.  However, punctuations like periods and exclamation marks make it hard for the neural network to distinguish between the word \"bye\" and \"bye!\".\n",
    "\n",
    "Implement the function `token_lookup` to return a dict that will be used to tokenize symbols like \"!\" into \"||Exclamation_Mark||\".  Create a dictionary for the following symbols where the symbol is the key and value is the token:\n",
    "- Period ( . )\n",
    "- Comma ( , )\n",
    "- Quotation Mark ( \" )\n",
    "- Semicolon ( ; )\n",
    "- Exclamation mark ( ! )\n",
    "- Question mark ( ? )\n",
    "- Left Parentheses ( ( )\n",
    "- Right Parentheses ( ) )\n",
    "- Dash ( -- )\n",
    "- Return ( \\n )\n",
    "\n",
    "This dictionary will be used to token the symbols and add the delimiter (space) around it.  This separates the symbols as it's own word, making it easier for the neural network to predict on the next word. Make sure you don't use a token that could be confused as a word. Instead of using the token \"dash\", try using something like \"||dash||\"."
   ]
  },
  {
   "cell_type": "code",
   "execution_count": 7,
   "metadata": {},
   "outputs": [
    {
     "name": "stdout",
     "output_type": "stream",
     "text": [
      "Tests Passed\n"
     ]
    }
   ],
   "source": [
    "def token_lookup():\n",
    "    \"\"\"\n",
    "    Generate a dict to turn punctuation into a token.\n",
    "    :return: Tokenize dictionary where the key is the punctuation and the value is the token\n",
    "    \"\"\"\n",
    "    # TODO: Implement Function\n",
    "    return {'.':'||period||',\n",
    "           ',':'||comma||',\n",
    "           '\"':'||quotation_mark||',\n",
    "           ';':'||semicolon||',\n",
    "           '!':'||exclamation_mark||',\n",
    "           '?':'||question_mark||',\n",
    "           '(':'||left_paren||',\n",
    "           ')':'||right_paren||',\n",
    "           '--':'||dash||',\n",
    "           '\\n':'||return||'}\n",
    "\n",
    "\"\"\"\n",
    "DON'T MODIFY ANYTHING IN THIS CELL THAT IS BELOW THIS LINE\n",
    "\"\"\"\n",
    "tests.test_tokenize(token_lookup)"
   ]
  },
  {
   "cell_type": "markdown",
   "metadata": {},
   "source": [
    "## Preprocess all the data and save it\n",
    "Running the code cell below will preprocess all the data and save it to file."
   ]
  },
  {
   "cell_type": "code",
   "execution_count": 8,
   "metadata": {
    "collapsed": true
   },
   "outputs": [],
   "source": [
    "\"\"\"\n",
    "DON'T MODIFY ANYTHING IN THIS CELL\n",
    "\"\"\"\n",
    "# Preprocess Training, Validation, and Testing Data\n",
    "helper.preprocess_and_save_data(data_dir, token_lookup, create_lookup_tables)"
   ]
  },
  {
   "cell_type": "markdown",
   "metadata": {},
   "source": [
    "# Check Point\n",
    "This is your first checkpoint. If you ever decide to come back to this notebook or have to restart the notebook, you can start from here. The preprocessed data has been saved to disk."
   ]
  },
  {
   "cell_type": "code",
   "execution_count": 9,
   "metadata": {
    "collapsed": true
   },
   "outputs": [],
   "source": [
    "\"\"\"\n",
    "DON'T MODIFY ANYTHING IN THIS CELL\n",
    "\"\"\"\n",
    "import helper\n",
    "import numpy as np\n",
    "import problem_unittests as tests\n",
    "\n",
    "int_text, vocab_to_int, int_to_vocab, token_dict = helper.load_preprocess()"
   ]
  },
  {
   "cell_type": "markdown",
   "metadata": {},
   "source": [
    "## Build the Neural Network\n",
    "You'll build the components necessary to build a RNN by implementing the following functions below:\n",
    "- get_inputs\n",
    "- get_init_cell\n",
    "- get_embed\n",
    "- build_rnn\n",
    "- build_nn\n",
    "- get_batches\n",
    "\n",
    "### Check the Version of TensorFlow and Access to GPU"
   ]
  },
  {
   "cell_type": "code",
   "execution_count": 10,
   "metadata": {},
   "outputs": [
    {
     "name": "stdout",
     "output_type": "stream",
     "text": [
      "TensorFlow Version: 1.1.0\n",
      "Default GPU Device: /gpu:0\n"
     ]
    }
   ],
   "source": [
    "\"\"\"\n",
    "DON'T MODIFY ANYTHING IN THIS CELL\n",
    "\"\"\"\n",
    "from distutils.version import LooseVersion\n",
    "import warnings\n",
    "import tensorflow as tf\n",
    "\n",
    "# Check TensorFlow Version\n",
    "assert LooseVersion(tf.__version__) >= LooseVersion('1.0'), 'Please use TensorFlow version 1.0 or newer'\n",
    "print('TensorFlow Version: {}'.format(tf.__version__))\n",
    "\n",
    "# Check for a GPU\n",
    "if not tf.test.gpu_device_name():\n",
    "    warnings.warn('No GPU found. Please use a GPU to train your neural network.')\n",
    "else:\n",
    "    print('Default GPU Device: {}'.format(tf.test.gpu_device_name()))"
   ]
  },
  {
   "cell_type": "markdown",
   "metadata": {},
   "source": [
    "### Input\n",
    "Implement the `get_inputs()` function to create TF Placeholders for the Neural Network.  It should create the following placeholders:\n",
    "- Input text placeholder named \"input\" using the [TF Placeholder](https://www.tensorflow.org/api_docs/python/tf/placeholder) `name` parameter.\n",
    "- Targets placeholder\n",
    "- Learning Rate placeholder\n",
    "\n",
    "Return the placeholders in the following tuple `(Input, Targets, LearningRate)`"
   ]
  },
  {
   "cell_type": "code",
   "execution_count": 11,
   "metadata": {},
   "outputs": [
    {
     "name": "stdout",
     "output_type": "stream",
     "text": [
      "Tests Passed\n"
     ]
    }
   ],
   "source": [
    "def get_inputs():\n",
    "    \"\"\"\n",
    "    Create TF Placeholders for input, targets, and learning rate.\n",
    "    :return: Tuple (input, targets, learning rate)\n",
    "    \"\"\"\n",
    "    inputs = tf.placeholder(tf.int32, [None, None], name='input')\n",
    "    targets = tf.placeholder(tf.int32, [None, None], name='targets')\n",
    "    learning_rate = tf.placeholder(tf.float32, name='learning_rate')\n",
    "    # TODO: Implement Function\n",
    "    return inputs, targets, learning_rate\n",
    "\n",
    "\n",
    "\"\"\"\n",
    "DON'T MODIFY ANYTHING IN THIS CELL THAT IS BELOW THIS LINE\n",
    "\"\"\"\n",
    "tests.test_get_inputs(get_inputs)"
   ]
  },
  {
   "cell_type": "markdown",
   "metadata": {},
   "source": [
    "### Build RNN Cell and Initialize\n",
    "Stack one or more [`BasicLSTMCells`](https://www.tensorflow.org/api_docs/python/tf/contrib/rnn/BasicLSTMCell) in a [`MultiRNNCell`](https://www.tensorflow.org/api_docs/python/tf/contrib/rnn/MultiRNNCell).\n",
    "- The Rnn size should be set using `rnn_size`\n",
    "- Initalize Cell State using the MultiRNNCell's [`zero_state()`](https://www.tensorflow.org/api_docs/python/tf/contrib/rnn/MultiRNNCell#zero_state) function\n",
    "    - Apply the name \"initial_state\" to the initial state using [`tf.identity()`](https://www.tensorflow.org/api_docs/python/tf/identity)\n",
    "\n",
    "Return the cell and initial state in the following tuple `(Cell, InitialState)`"
   ]
  },
  {
   "cell_type": "code",
   "execution_count": 12,
   "metadata": {},
   "outputs": [
    {
     "name": "stdout",
     "output_type": "stream",
     "text": [
      "Tests Passed\n"
     ]
    }
   ],
   "source": [
    "def get_init_cell(batch_size, rnn_size):\n",
    "    \"\"\"\n",
    "    Create an RNN Cell and initialize it.\n",
    "    :param batch_size: Size of batches\n",
    "    :param rnn_size: Size of RNNs\n",
    "    :return: Tuple (cell, initialize state)\n",
    "    \"\"\"\n",
    "    num_layers = 1\n",
    "    basic_cells = [tf.contrib.rnn.BasicLSTMCell(rnn_size) for _ in range(num_layers)]\n",
    "    cell = tf.contrib.rnn.MultiRNNCell(basic_cells)\n",
    "    initial_state = cell.zero_state(batch_size, tf.float32)\n",
    "    initial_state = tf.identity(initial_state, name=\"initial_state\")\n",
    "    return cell, initial_state\n",
    "\n",
    "\n",
    "\"\"\"\n",
    "DON'T MODIFY ANYTHING IN THIS CELL THAT IS BELOW THIS LINE\n",
    "\"\"\"\n",
    "tests.test_get_init_cell(get_init_cell)"
   ]
  },
  {
   "cell_type": "markdown",
   "metadata": {},
   "source": [
    "### Word Embedding\n",
    "Apply embedding to `input_data` using TensorFlow.  Return the embedded sequence."
   ]
  },
  {
   "cell_type": "code",
   "execution_count": 13,
   "metadata": {},
   "outputs": [
    {
     "name": "stdout",
     "output_type": "stream",
     "text": [
      "Tests Passed\n"
     ]
    }
   ],
   "source": [
    "def get_embed(input_data, vocab_size, embed_dim):\n",
    "    \"\"\"\n",
    "    Create embedding for <input_data>.\n",
    "    :param input_data: TF placeholder for text input.\n",
    "    :param vocab_size: Number of words in vocabulary.\n",
    "    :param embed_dim: Number of embedding dimensions\n",
    "    :return: Embedded input.\n",
    "    \"\"\"\n",
    "    embeddings = tf.Variable(tf.random_uniform([vocab_size, embed_dim], -1.0, 1.0))\n",
    "    embed = tf.nn.embedding_lookup(embeddings, input_data)\n",
    "    return embed\n",
    "\n",
    "\n",
    "\"\"\"\n",
    "DON'T MODIFY ANYTHING IN THIS CELL THAT IS BELOW THIS LINE\n",
    "\"\"\"\n",
    "tests.test_get_embed(get_embed)"
   ]
  },
  {
   "cell_type": "markdown",
   "metadata": {},
   "source": [
    "### Build RNN\n",
    "You created a RNN Cell in the `get_init_cell()` function.  Time to use the cell to create a RNN.\n",
    "- Build the RNN using the [`tf.nn.dynamic_rnn()`](https://www.tensorflow.org/api_docs/python/tf/nn/dynamic_rnn)\n",
    " - Apply the name \"final_state\" to the final state using [`tf.identity()`](https://www.tensorflow.org/api_docs/python/tf/identity)\n",
    "\n",
    "Return the outputs and final_state state in the following tuple `(Outputs, FinalState)` "
   ]
  },
  {
   "cell_type": "code",
   "execution_count": 14,
   "metadata": {},
   "outputs": [
    {
     "name": "stdout",
     "output_type": "stream",
     "text": [
      "Tests Passed\n"
     ]
    }
   ],
   "source": [
    "def build_rnn(cell, inputs):\n",
    "    \"\"\"\n",
    "    Create a RNN using a RNN Cell\n",
    "    :param cell: RNN Cell\n",
    "    :param inputs: Input text data\n",
    "    :return: Tuple (Outputs, Final State)\n",
    "    \"\"\"\n",
    "    outputs, final_state = tf.nn.dynamic_rnn(cell, inputs, dtype=tf.float32)\n",
    "    final_state = tf.identity(final_state, name='final_state')\n",
    "    return outputs, final_state\n",
    "\n",
    "\n",
    "\"\"\"\n",
    "DON'T MODIFY ANYTHING IN THIS CELL THAT IS BELOW THIS LINE\n",
    "\"\"\"\n",
    "tests.test_build_rnn(build_rnn)"
   ]
  },
  {
   "cell_type": "markdown",
   "metadata": {},
   "source": [
    "### Build the Neural Network\n",
    "Apply the functions you implemented above to:\n",
    "- Apply embedding to `input_data` using your `get_embed(input_data, vocab_size, embed_dim)` function.\n",
    "- Build RNN using `cell` and your `build_rnn(cell, inputs)` function.\n",
    "- Apply a fully connected layer with a linear activation and `vocab_size` as the number of outputs.\n",
    "\n",
    "Return the logits and final state in the following tuple (Logits, FinalState) "
   ]
  },
  {
   "cell_type": "code",
   "execution_count": 15,
   "metadata": {},
   "outputs": [
    {
     "name": "stdout",
     "output_type": "stream",
     "text": [
      "Tests Passed\n"
     ]
    }
   ],
   "source": [
    "def build_nn(cell, rnn_size, input_data, vocab_size, embed_dim):\n",
    "    \"\"\"\n",
    "    Build part of the neural network\n",
    "    :param cell: RNN cell\n",
    "    :param rnn_size: Size of rnns\n",
    "    :param input_data: Input data\n",
    "    :param vocab_size: Vocabulary size\n",
    "    :param embed_dim: Number of embedding dimensions\n",
    "    :return: Tuple (Logits, FinalState)\n",
    "    \"\"\"\n",
    "    embed = get_embed(input_data, vocab_size, embed_dim)\n",
    "    rnn, final_state = build_rnn(cell, embed)\n",
    "    logits = tf.contrib.layers.fully_connected(inputs=rnn, \\\n",
    "                                           num_outputs=vocab_size, \\\n",
    "                                           activation_fn=None,\\\n",
    "                                           weights_initializer=tf.truncated_normal_initializer(mean=0.0, stddev=0.01),\\\n",
    "                                           biases_initializer=tf.zeros_initializer())\n",
    "    return logits, final_state\n",
    "\n",
    "\n",
    "\"\"\"\n",
    "DON'T MODIFY ANYTHING IN THIS CELL THAT IS BELOW THIS LINE\n",
    "\"\"\"\n",
    "tests.test_build_nn(build_nn)"
   ]
  },
  {
   "cell_type": "markdown",
   "metadata": {},
   "source": [
    "### Batches\n",
    "Implement `get_batches` to create batches of input and targets using `int_text`.  The batches should be a Numpy array with the shape `(number of batches, 2, batch size, sequence length)`. Each batch contains two elements:\n",
    "- The first element is a single batch of **input** with the shape `[batch size, sequence length]`\n",
    "- The second element is a single batch of **targets** with the shape `[batch size, sequence length]`\n",
    "\n",
    "If you can't fill the last batch with enough data, drop the last batch.\n",
    "\n",
    "For exmple, `get_batches([1, 2, 3, 4, 5, 6, 7, 8, 9, 10, 11, 12, 13, 14, 15, 16, 17, 18, 19, 20], 3, 2)` would return a Numpy array of the following:\n",
    "```\n",
    "[\n",
    "  # First Batch\n",
    "  [\n",
    "    # Batch of Input\n",
    "    [[ 1  2], [ 7  8], [13 14]]\n",
    "    # Batch of targets\n",
    "    [[ 2  3], [ 8  9], [14 15]]\n",
    "  ]\n",
    "\n",
    "  # Second Batch\n",
    "  [\n",
    "    # Batch of Input\n",
    "    [[ 3  4], [ 9 10], [15 16]]\n",
    "    # Batch of targets\n",
    "    [[ 4  5], [10 11], [16 17]]\n",
    "  ]\n",
    "\n",
    "  # Third Batch\n",
    "  [\n",
    "    # Batch of Input\n",
    "    [[ 5  6], [11 12], [17 18]]\n",
    "    # Batch of targets\n",
    "    [[ 6  7], [12 13], [18  1]]\n",
    "  ]\n",
    "]\n",
    "```\n",
    "\n",
    "Notice that the last target value in the last batch is the first input value of the first batch. In this case, `1`. This is a common technique used when creating sequence batches, although it is rather unintuitive."
   ]
  },
  {
   "cell_type": "code",
   "execution_count": 16,
   "metadata": {},
   "outputs": [
    {
     "name": "stdout",
     "output_type": "stream",
     "text": [
      "Tests Passed\n"
     ]
    }
   ],
   "source": [
    "def get_batches(int_text, batch_size, seq_length):\n",
    "    \"\"\"\n",
    "    Return batches of input and target\n",
    "    :param int_text: Text with the words replaced by their ids\n",
    "    :param batch_size: The size of batch\n",
    "    :param seq_length: The length of sequence\n",
    "    :return: Batches as a Numpy array\n",
    "    \"\"\"\n",
    "    \n",
    "    n_batches = len(int_text) // (batch_size * seq_length)\n",
    "    total_size = n_batches * batch_size * seq_length\n",
    "    \n",
    "    x = np.array(int_text[:total_size])\n",
    "    y = np.roll(x, -1)\n",
    "    \n",
    "    input_batch = np.split(x.reshape(batch_size, -1),\n",
    "                        n_batches, 1)\n",
    "    target_batch = np.split(y.reshape(batch_size, -1),\n",
    "                        n_batches, 1)\n",
    "    \n",
    "    batches = np.array(list(zip(input_batch, target_batch)))\n",
    "        \n",
    "    return batches\n",
    "\n",
    "\n",
    "\"\"\"\n",
    "DON'T MODIFY ANYTHING IN THIS CELL THAT IS BELOW THIS LINE\n",
    "\"\"\"\n",
    "tests.test_get_batches(get_batches)"
   ]
  },
  {
   "cell_type": "markdown",
   "metadata": {},
   "source": [
    "## Neural Network Training\n",
    "### Hyperparameters\n",
    "Tune the following parameters:\n",
    "\n",
    "- Set `num_epochs` to the number of epochs.\n",
    "- Set `batch_size` to the batch size.\n",
    "- Set `rnn_size` to the size of the RNNs.\n",
    "- Set `embed_dim` to the size of the embedding.\n",
    "- Set `seq_length` to the length of sequence.\n",
    "- Set `learning_rate` to the learning rate.\n",
    "- Set `show_every_n_batches` to the number of batches the neural network should print progress."
   ]
  },
  {
   "cell_type": "code",
   "execution_count": 17,
   "metadata": {
    "collapsed": true
   },
   "outputs": [],
   "source": [
    "# Number of Epochs\n",
    "num_epochs = 500\n",
    "# Batch Size\n",
    "batch_size = 512\n",
    "# RNN Size\n",
    "rnn_size = 256\n",
    "# Embedding Dimension Size\n",
    "embed_dim = 400\n",
    "# Sequence Length\n",
    "seq_length = 14\n",
    "# Learning Rate\n",
    "learning_rate = 0.001\n",
    "# Show stats for every n number of batches\n",
    "show_every_n_batches = 25\n",
    "\n",
    "\"\"\"\n",
    "DON'T MODIFY ANYTHING IN THIS CELL THAT IS BELOW THIS LINE\n",
    "\"\"\"\n",
    "save_dir = './save'"
   ]
  },
  {
   "cell_type": "markdown",
   "metadata": {},
   "source": [
    "### Build the Graph\n",
    "Build the graph using the neural network you implemented."
   ]
  },
  {
   "cell_type": "code",
   "execution_count": 20,
   "metadata": {
    "collapsed": true
   },
   "outputs": [],
   "source": [
    "\"\"\"\n",
    "DON'T MODIFY ANYTHING IN THIS CELL\n",
    "\"\"\"\n",
    "from tensorflow.contrib import seq2seq\n",
    "\n",
    "train_graph = tf.Graph()\n",
    "with train_graph.as_default():\n",
    "    vocab_size = len(int_to_vocab)\n",
    "    input_text, targets, lr = get_inputs()\n",
    "    input_data_shape = tf.shape(input_text)\n",
    "    cell, initial_state = get_init_cell(input_data_shape[0], rnn_size)\n",
    "    logits, final_state = build_nn(cell, rnn_size, input_text, vocab_size, embed_dim)\n",
    "\n",
    "    # Probabilities for generating words\n",
    "    probs = tf.nn.softmax(logits, name='probs')\n",
    "\n",
    "    # Loss function\n",
    "    cost = seq2seq.sequence_loss(\n",
    "        logits,\n",
    "        targets,\n",
    "        tf.ones([input_data_shape[0], input_data_shape[1]]))\n",
    "\n",
    "    # Optimizer\n",
    "    optimizer = tf.train.AdamOptimizer(lr)\n",
    "\n",
    "    # Gradient Clipping\n",
    "    gradients = optimizer.compute_gradients(cost)\n",
    "    capped_gradients = [(tf.clip_by_value(grad, -1., 1.), var) for grad, var in gradients if grad is not None]\n",
    "    train_op = optimizer.apply_gradients(capped_gradients)"
   ]
  },
  {
   "cell_type": "markdown",
   "metadata": {},
   "source": [
    "## Train\n",
    "Train the neural network on the preprocessed data.  If you have a hard time getting a good loss, check the [forums](https://discussions.udacity.com/) to see if anyone is having the same problem."
   ]
  },
  {
   "cell_type": "code",
   "execution_count": 21,
   "metadata": {},
   "outputs": [
    {
     "name": "stdout",
     "output_type": "stream",
     "text": [
      "Epoch   0 Batch    0/9   train_loss = 8.823\n",
      "Epoch   2 Batch    7/9   train_loss = 6.258\n",
      "Epoch   5 Batch    5/9   train_loss = 5.940\n",
      "Epoch   8 Batch    3/9   train_loss = 5.658\n",
      "Epoch  11 Batch    1/9   train_loss = 5.429\n",
      "Epoch  13 Batch    8/9   train_loss = 5.309\n",
      "Epoch  16 Batch    6/9   train_loss = 5.195\n",
      "Epoch  19 Batch    4/9   train_loss = 4.913\n",
      "Epoch  22 Batch    2/9   train_loss = 4.728\n",
      "Epoch  25 Batch    0/9   train_loss = 4.705\n",
      "Epoch  27 Batch    7/9   train_loss = 4.572\n",
      "Epoch  30 Batch    5/9   train_loss = 4.463\n",
      "Epoch  33 Batch    3/9   train_loss = 4.336\n",
      "Epoch  36 Batch    1/9   train_loss = 4.246\n",
      "Epoch  38 Batch    8/9   train_loss = 4.235\n",
      "Epoch  41 Batch    6/9   train_loss = 4.215\n",
      "Epoch  44 Batch    4/9   train_loss = 4.034\n",
      "Epoch  47 Batch    2/9   train_loss = 3.926\n",
      "Epoch  50 Batch    0/9   train_loss = 3.924\n",
      "Epoch  52 Batch    7/9   train_loss = 3.822\n",
      "Epoch  55 Batch    5/9   train_loss = 3.755\n",
      "Epoch  58 Batch    3/9   train_loss = 3.669\n",
      "Epoch  61 Batch    1/9   train_loss = 3.608\n",
      "Epoch  63 Batch    8/9   train_loss = 3.587\n",
      "Epoch  66 Batch    6/9   train_loss = 3.567\n",
      "Epoch  69 Batch    4/9   train_loss = 3.440\n",
      "Epoch  72 Batch    2/9   train_loss = 3.380\n",
      "Epoch  75 Batch    0/9   train_loss = 3.354\n",
      "Epoch  77 Batch    7/9   train_loss = 3.272\n",
      "Epoch  80 Batch    5/9   train_loss = 3.224\n",
      "Epoch  83 Batch    3/9   train_loss = 3.167\n",
      "Epoch  86 Batch    1/9   train_loss = 3.119\n",
      "Epoch  88 Batch    8/9   train_loss = 3.088\n",
      "Epoch  91 Batch    6/9   train_loss = 3.079\n",
      "Epoch  94 Batch    4/9   train_loss = 2.997\n",
      "Epoch  97 Batch    2/9   train_loss = 2.957\n",
      "Epoch 100 Batch    0/9   train_loss = 2.913\n",
      "Epoch 102 Batch    7/9   train_loss = 2.841\n",
      "Epoch 105 Batch    5/9   train_loss = 2.823\n",
      "Epoch 108 Batch    3/9   train_loss = 2.788\n",
      "Epoch 111 Batch    1/9   train_loss = 2.740\n",
      "Epoch 113 Batch    8/9   train_loss = 2.699\n",
      "Epoch 116 Batch    6/9   train_loss = 2.691\n",
      "Epoch 119 Batch    4/9   train_loss = 2.636\n",
      "Epoch 122 Batch    2/9   train_loss = 2.613\n",
      "Epoch 125 Batch    0/9   train_loss = 2.562\n",
      "Epoch 127 Batch    7/9   train_loss = 2.494\n",
      "Epoch 130 Batch    5/9   train_loss = 2.491\n",
      "Epoch 133 Batch    3/9   train_loss = 2.451\n",
      "Epoch 136 Batch    1/9   train_loss = 2.409\n",
      "Epoch 138 Batch    8/9   train_loss = 2.366\n",
      "Epoch 141 Batch    6/9   train_loss = 2.352\n",
      "Epoch 144 Batch    4/9   train_loss = 2.332\n",
      "Epoch 147 Batch    2/9   train_loss = 2.312\n",
      "Epoch 150 Batch    0/9   train_loss = 2.248\n",
      "Epoch 152 Batch    7/9   train_loss = 2.180\n",
      "Epoch 155 Batch    5/9   train_loss = 2.183\n",
      "Epoch 158 Batch    3/9   train_loss = 2.155\n",
      "Epoch 161 Batch    1/9   train_loss = 2.116\n",
      "Epoch 163 Batch    8/9   train_loss = 2.084\n",
      "Epoch 166 Batch    6/9   train_loss = 2.051\n",
      "Epoch 169 Batch    4/9   train_loss = 2.027\n",
      "Epoch 172 Batch    2/9   train_loss = 2.025\n",
      "Epoch 175 Batch    0/9   train_loss = 1.960\n",
      "Epoch 177 Batch    7/9   train_loss = 1.899\n",
      "Epoch 180 Batch    5/9   train_loss = 1.908\n",
      "Epoch 183 Batch    3/9   train_loss = 1.889\n",
      "Epoch 186 Batch    1/9   train_loss = 1.846\n",
      "Epoch 188 Batch    8/9   train_loss = 1.794\n",
      "Epoch 191 Batch    6/9   train_loss = 1.769\n",
      "Epoch 194 Batch    4/9   train_loss = 1.767\n",
      "Epoch 197 Batch    2/9   train_loss = 1.770\n",
      "Epoch 200 Batch    0/9   train_loss = 1.700\n",
      "Epoch 202 Batch    7/9   train_loss = 1.642\n",
      "Epoch 205 Batch    5/9   train_loss = 1.646\n",
      "Epoch 208 Batch    3/9   train_loss = 1.631\n",
      "Epoch 211 Batch    1/9   train_loss = 1.609\n",
      "Epoch 213 Batch    8/9   train_loss = 1.551\n",
      "Epoch 216 Batch    6/9   train_loss = 1.520\n",
      "Epoch 219 Batch    4/9   train_loss = 1.529\n",
      "Epoch 222 Batch    2/9   train_loss = 1.535\n",
      "Epoch 225 Batch    0/9   train_loss = 1.462\n",
      "Epoch 227 Batch    7/9   train_loss = 1.411\n",
      "Epoch 230 Batch    5/9   train_loss = 1.426\n",
      "Epoch 233 Batch    3/9   train_loss = 1.407\n",
      "Epoch 236 Batch    1/9   train_loss = 1.390\n",
      "Epoch 238 Batch    8/9   train_loss = 1.345\n",
      "Epoch 241 Batch    6/9   train_loss = 1.300\n",
      "Epoch 244 Batch    4/9   train_loss = 1.312\n",
      "Epoch 247 Batch    2/9   train_loss = 1.327\n",
      "Epoch 250 Batch    0/9   train_loss = 1.256\n",
      "Epoch 252 Batch    7/9   train_loss = 1.216\n",
      "Epoch 255 Batch    5/9   train_loss = 1.231\n",
      "Epoch 258 Batch    3/9   train_loss = 1.211\n",
      "Epoch 261 Batch    1/9   train_loss = 1.194\n",
      "Epoch 263 Batch    8/9   train_loss = 1.146\n",
      "Epoch 266 Batch    6/9   train_loss = 1.111\n",
      "Epoch 269 Batch    4/9   train_loss = 1.137\n",
      "Epoch 272 Batch    2/9   train_loss = 1.148\n",
      "Epoch 275 Batch    0/9   train_loss = 1.081\n",
      "Epoch 277 Batch    7/9   train_loss = 1.029\n",
      "Epoch 280 Batch    5/9   train_loss = 1.054\n",
      "Epoch 283 Batch    3/9   train_loss = 1.046\n",
      "Epoch 286 Batch    1/9   train_loss = 1.020\n",
      "Epoch 288 Batch    8/9   train_loss = 0.993\n",
      "Epoch 291 Batch    6/9   train_loss = 0.958\n",
      "Epoch 294 Batch    4/9   train_loss = 0.968\n",
      "Epoch 297 Batch    2/9   train_loss = 0.991\n",
      "Epoch 300 Batch    0/9   train_loss = 0.922\n",
      "Epoch 302 Batch    7/9   train_loss = 0.880\n",
      "Epoch 305 Batch    5/9   train_loss = 0.908\n",
      "Epoch 308 Batch    3/9   train_loss = 0.900\n",
      "Epoch 311 Batch    1/9   train_loss = 0.878\n",
      "Epoch 313 Batch    8/9   train_loss = 0.844\n",
      "Epoch 316 Batch    6/9   train_loss = 0.807\n",
      "Epoch 319 Batch    4/9   train_loss = 0.828\n",
      "Epoch 322 Batch    2/9   train_loss = 0.853\n",
      "Epoch 325 Batch    0/9   train_loss = 0.822\n",
      "Epoch 327 Batch    7/9   train_loss = 0.775\n",
      "Epoch 330 Batch    5/9   train_loss = 0.794\n",
      "Epoch 333 Batch    3/9   train_loss = 0.780\n",
      "Epoch 336 Batch    1/9   train_loss = 0.747\n",
      "Epoch 338 Batch    8/9   train_loss = 0.731\n",
      "Epoch 341 Batch    6/9   train_loss = 0.707\n",
      "Epoch 344 Batch    4/9   train_loss = 0.723\n",
      "Epoch 347 Batch    2/9   train_loss = 0.746\n",
      "Epoch 350 Batch    0/9   train_loss = 0.696\n",
      "Epoch 352 Batch    7/9   train_loss = 0.663\n",
      "Epoch 355 Batch    5/9   train_loss = 0.692\n",
      "Epoch 358 Batch    3/9   train_loss = 0.685\n",
      "Epoch 361 Batch    1/9   train_loss = 0.645\n",
      "Epoch 363 Batch    8/9   train_loss = 0.630\n",
      "Epoch 366 Batch    6/9   train_loss = 0.597\n",
      "Epoch 369 Batch    4/9   train_loss = 0.631\n",
      "Epoch 372 Batch    2/9   train_loss = 0.650\n",
      "Epoch 375 Batch    0/9   train_loss = 0.611\n",
      "Epoch 377 Batch    7/9   train_loss = 0.577\n",
      "Epoch 380 Batch    5/9   train_loss = 0.607\n",
      "Epoch 383 Batch    3/9   train_loss = 0.593\n",
      "Epoch 386 Batch    1/9   train_loss = 0.562\n",
      "Epoch 388 Batch    8/9   train_loss = 0.553\n",
      "Epoch 391 Batch    6/9   train_loss = 0.532\n",
      "Epoch 394 Batch    4/9   train_loss = 0.563\n",
      "Epoch 397 Batch    2/9   train_loss = 0.578\n",
      "Epoch 400 Batch    0/9   train_loss = 0.526\n",
      "Epoch 402 Batch    7/9   train_loss = 0.507\n",
      "Epoch 405 Batch    5/9   train_loss = 0.537\n",
      "Epoch 408 Batch    3/9   train_loss = 0.524\n",
      "Epoch 411 Batch    1/9   train_loss = 0.505\n",
      "Epoch 413 Batch    8/9   train_loss = 0.498\n",
      "Epoch 416 Batch    6/9   train_loss = 0.480\n",
      "Epoch 419 Batch    4/9   train_loss = 0.497\n",
      "Epoch 422 Batch    2/9   train_loss = 0.508\n",
      "Epoch 425 Batch    0/9   train_loss = 0.466\n",
      "Epoch 427 Batch    7/9   train_loss = 0.447\n",
      "Epoch 430 Batch    5/9   train_loss = 0.483\n",
      "Epoch 433 Batch    3/9   train_loss = 0.470\n",
      "Epoch 436 Batch    1/9   train_loss = 0.447\n",
      "Epoch 438 Batch    8/9   train_loss = 0.445\n",
      "Epoch 441 Batch    6/9   train_loss = 0.421\n",
      "Epoch 444 Batch    4/9   train_loss = 0.439\n",
      "Epoch 447 Batch    2/9   train_loss = 0.454\n",
      "Epoch 450 Batch    0/9   train_loss = 0.420\n",
      "Epoch 452 Batch    7/9   train_loss = 0.402\n",
      "Epoch 455 Batch    5/9   train_loss = 0.435\n",
      "Epoch 458 Batch    3/9   train_loss = 0.420\n",
      "Epoch 461 Batch    1/9   train_loss = 0.407\n",
      "Epoch 463 Batch    8/9   train_loss = 0.395\n",
      "Epoch 466 Batch    6/9   train_loss = 0.388\n",
      "Epoch 469 Batch    4/9   train_loss = 0.402\n",
      "Epoch 472 Batch    2/9   train_loss = 0.412\n",
      "Epoch 475 Batch    0/9   train_loss = 0.380\n",
      "Epoch 477 Batch    7/9   train_loss = 0.368\n",
      "Epoch 480 Batch    5/9   train_loss = 0.395\n",
      "Epoch 483 Batch    3/9   train_loss = 0.387\n",
      "Epoch 486 Batch    1/9   train_loss = 0.375\n",
      "Epoch 488 Batch    8/9   train_loss = 0.363\n",
      "Epoch 491 Batch    6/9   train_loss = 0.346\n",
      "Epoch 494 Batch    4/9   train_loss = 0.366\n",
      "Epoch 497 Batch    2/9   train_loss = 0.376\n",
      "Model Trained and Saved\n"
     ]
    }
   ],
   "source": [
    "\"\"\"\n",
    "DON'T MODIFY ANYTHING IN THIS CELL\n",
    "\"\"\"\n",
    "batches = get_batches(int_text, batch_size, seq_length)\n",
    "\n",
    "with tf.Session(graph=train_graph) as sess:\n",
    "    sess.run(tf.global_variables_initializer())\n",
    "\n",
    "    for epoch_i in range(num_epochs):\n",
    "        state = sess.run(initial_state, {input_text: batches[0][0]})\n",
    "\n",
    "        for batch_i, (x, y) in enumerate(batches):\n",
    "            feed = {\n",
    "                input_text: x,\n",
    "                targets: y,\n",
    "                initial_state: state,\n",
    "                lr: learning_rate}\n",
    "            train_loss, state, _ = sess.run([cost, final_state, train_op], feed)\n",
    "\n",
    "            # Show every <show_every_n_batches> batches\n",
    "            if (epoch_i * len(batches) + batch_i) % show_every_n_batches == 0:\n",
    "                print('Epoch {:>3} Batch {:>4}/{}   train_loss = {:.3f}'.format(\n",
    "                    epoch_i,\n",
    "                    batch_i,\n",
    "                    len(batches),\n",
    "                    train_loss))\n",
    "\n",
    "    # Save Model\n",
    "    saver = tf.train.Saver()\n",
    "    saver.save(sess, save_dir)\n",
    "    print('Model Trained and Saved')"
   ]
  },
  {
   "cell_type": "markdown",
   "metadata": {},
   "source": [
    "## Save Parameters\n",
    "Save `seq_length` and `save_dir` for generating a new TV script."
   ]
  },
  {
   "cell_type": "code",
   "execution_count": 22,
   "metadata": {
    "collapsed": true
   },
   "outputs": [],
   "source": [
    "\"\"\"\n",
    "DON'T MODIFY ANYTHING IN THIS CELL\n",
    "\"\"\"\n",
    "# Save parameters for checkpoint\n",
    "helper.save_params((seq_length, save_dir))"
   ]
  },
  {
   "cell_type": "markdown",
   "metadata": {},
   "source": [
    "# Checkpoint"
   ]
  },
  {
   "cell_type": "code",
   "execution_count": 28,
   "metadata": {
    "collapsed": true
   },
   "outputs": [],
   "source": [
    "\"\"\"\n",
    "DON'T MODIFY ANYTHING IN THIS CELL\n",
    "\"\"\"\n",
    "import tensorflow as tf\n",
    "import numpy as np\n",
    "import helper\n",
    "import problem_unittests as tests\n",
    "\n",
    "_, vocab_to_int, int_to_vocab, token_dict = helper.load_preprocess()\n",
    "seq_length, load_dir = helper.load_params()"
   ]
  },
  {
   "cell_type": "markdown",
   "metadata": {},
   "source": [
    "## Implement Generate Functions\n",
    "### Get Tensors\n",
    "Get tensors from `loaded_graph` using the function [`get_tensor_by_name()`](https://www.tensorflow.org/api_docs/python/tf/Graph#get_tensor_by_name).  Get the tensors using the following names:\n",
    "- \"input:0\"\n",
    "- \"initial_state:0\"\n",
    "- \"final_state:0\"\n",
    "- \"probs:0\"\n",
    "\n",
    "Return the tensors in the following tuple `(InputTensor, InitialStateTensor, FinalStateTensor, ProbsTensor)` "
   ]
  },
  {
   "cell_type": "code",
   "execution_count": 29,
   "metadata": {},
   "outputs": [
    {
     "name": "stdout",
     "output_type": "stream",
     "text": [
      "Tests Passed\n"
     ]
    }
   ],
   "source": [
    "def get_tensors(loaded_graph):\n",
    "    \"\"\"\n",
    "    Get input, initial state, final state, and probabilities tensor from <loaded_graph>\n",
    "    :param loaded_graph: TensorFlow graph loaded from file\n",
    "    :return: Tuple (InputTensor, InitialStateTensor, FinalStateTensor, ProbsTensor)\n",
    "    \"\"\"\n",
    "    input_0 = loaded_graph.get_tensor_by_name(\"input:0\")\n",
    "    initial_state_0 = loaded_graph.get_tensor_by_name(\"initial_state:0\")\n",
    "    final_state_0 = loaded_graph.get_tensor_by_name(\"final_state:0\")\n",
    "    probs_0 = loaded_graph.get_tensor_by_name(\"probs:0\")\n",
    "    return input_0, initial_state_0, final_state_0, probs_0\n",
    "\n",
    "\n",
    "\"\"\"\n",
    "DON'T MODIFY ANYTHING IN THIS CELL THAT IS BELOW THIS LINE\n",
    "\"\"\"\n",
    "tests.test_get_tensors(get_tensors)"
   ]
  },
  {
   "cell_type": "markdown",
   "metadata": {},
   "source": [
    "### Choose Word\n",
    "Implement the `pick_word()` function to select the next word using `probabilities`."
   ]
  },
  {
   "cell_type": "code",
   "execution_count": 38,
   "metadata": {},
   "outputs": [
    {
     "name": "stdout",
     "output_type": "stream",
     "text": [
      "Tests Passed\n"
     ]
    }
   ],
   "source": [
    "def pick_word(probabilities, int_to_vocab):\n",
    "    \"\"\"\n",
    "    Pick the next word in the generated text\n",
    "    :param probabilities: Probabilites of the next word\n",
    "    :param int_to_vocab: Dictionary of word ids as the keys and words as the values\n",
    "    :return: String of the predicted word\n",
    "    \"\"\"\n",
    "    predicted_word = int_to_vocab[np.argmax(probabilities)]\n",
    "    return predicted_word\n",
    "\n",
    "\n",
    "\"\"\"\n",
    "DON'T MODIFY ANYTHING IN THIS CELL THAT IS BELOW THIS LINE\n",
    "\"\"\"\n",
    "tests.test_pick_word(pick_word)"
   ]
  },
  {
   "cell_type": "markdown",
   "metadata": {},
   "source": [
    "## Generate TV Script\n",
    "This will generate the TV script for you.  Set `gen_length` to the length of TV script you want to generate."
   ]
  },
  {
   "cell_type": "code",
   "execution_count": 40,
   "metadata": {},
   "outputs": [
    {
     "name": "stdout",
     "output_type": "stream",
     "text": [
      "INFO:tensorflow:Restoring parameters from ./save\n",
      "moe_szyslak:(into phone) pleasure doing business with you,(coyly) h.\n",
      "moe_szyslak:(excited) then we go to the plow king.\n",
      "homer_simpson:(sweet) yeah.\n",
      "homer_simpson:(sweet) yeah.\n",
      "homer_simpson:(sweet) sorry, moe.\n",
      "moe_szyslak:(to patrons) nobody loves you...\n",
      "homer_simpson:(flatly) yeah, yeah. thanks kids in the nose.(sobs)\n",
      "homer_simpson:(pleading) ah, i gotta be honest with ya, and i know about the bow! i don't want that back. i am scum.\n",
      "homer_simpson:(soothing) oh, it's ringing!\n",
      "lenny_leonard:(mid-conversation) so who, you can spit in any.\n",
      "moe_szyslak:(to little man) come on, moe.\n",
      "barney_gumble: it is obvious you're bald... i was gonna say a good friend.\n",
      "moe_szyslak: homer, i got this friend drive your money cheer you up! the point is, a\" kid gorgeous,\" and you can charge up the wazoo.\n",
      "\n"
     ]
    }
   ],
   "source": [
    "gen_length = 200\n",
    "# homer_simpson, moe_szyslak, or Barney_Gumble\n",
    "prime_word = 'moe_szyslak'\n",
    "\n",
    "\"\"\"\n",
    "DON'T MODIFY ANYTHING IN THIS CELL THAT IS BELOW THIS LINE\n",
    "\"\"\"\n",
    "loaded_graph = tf.Graph()\n",
    "with tf.Session(graph=loaded_graph) as sess:\n",
    "    # Load saved model\n",
    "    loader = tf.train.import_meta_graph(load_dir + '.meta')\n",
    "    loader.restore(sess, load_dir)\n",
    "\n",
    "    # Get Tensors from loaded model\n",
    "    input_text, initial_state, final_state, probs = get_tensors(loaded_graph)\n",
    "\n",
    "    # Sentences generation setup\n",
    "    gen_sentences = [prime_word + ':']\n",
    "    prev_state = sess.run(initial_state, {input_text: np.array([[1]])})\n",
    "\n",
    "    # Generate sentences\n",
    "    for n in range(gen_length):\n",
    "        # Dynamic Input\n",
    "        dyn_input = [[vocab_to_int[word] for word in gen_sentences[-seq_length:]]]\n",
    "        dyn_seq_length = len(dyn_input[0])\n",
    "\n",
    "        # Get Prediction\n",
    "        probabilities, prev_state = sess.run(\n",
    "            [probs, final_state],\n",
    "            {input_text: dyn_input, initial_state: prev_state})\n",
    "        \n",
    "        pred_word = pick_word(probabilities[dyn_seq_length-1], int_to_vocab)\n",
    "\n",
    "        gen_sentences.append(pred_word)\n",
    "    \n",
    "    # Remove tokens\n",
    "    tv_script = ' '.join(gen_sentences)\n",
    "    for key, token in token_dict.items():\n",
    "        ending = ' ' if key in ['\\n', '(', '\"'] else ''\n",
    "        tv_script = tv_script.replace(' ' + token.lower(), key)\n",
    "    tv_script = tv_script.replace('\\n ', '\\n')\n",
    "    tv_script = tv_script.replace('( ', '(')\n",
    "        \n",
    "    print(tv_script)"
   ]
  },
  {
   "cell_type": "markdown",
   "metadata": {},
   "source": [
    "# The TV Script is Nonsensical\n",
    "It's ok if the TV script doesn't make any sense.  We trained on less than a megabyte of text.  In order to get good results, you'll have to use a smaller vocabulary or get more data.  Luckly there's more data!  As we mentioned in the begging of this project, this is a subset of [another dataset](https://www.kaggle.com/wcukierski/the-simpsons-by-the-data).  We didn't have you train on all the data, because that would take too long.  However, you are free to train your neural network on all the data.  After you complete the project, of course.\n",
    "# Submitting This Project\n",
    "When submitting this project, make sure to run all the cells before saving the notebook. Save the notebook file as \"dlnd_tv_script_generation.ipynb\" and save it as a HTML file under \"File\" -> \"Download as\". Include the \"helper.py\" and \"problem_unittests.py\" files in your submission."
   ]
  }
 ],
 "metadata": {
  "kernel_info": {
   "name": "python3"
  },
  "kernelspec": {
   "display_name": "Python 3",
   "language": "python",
   "name": "python3"
  },
  "language_info": {
   "codemirror_mode": {
    "name": "ipython",
    "version": 3
   },
   "file_extension": ".py",
   "mimetype": "text/x-python",
   "name": "python",
   "nbconvert_exporter": "python",
   "pygments_lexer": "ipython3",
   "version": "3.5.3"
  },
  "widgets": {
   "state": {},
   "version": "1.1.2"
  }
 },
 "nbformat": 4,
 "nbformat_minor": 1
}
